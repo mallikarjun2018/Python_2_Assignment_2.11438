{
 "cells": [
  {
   "cell_type": "code",
   "execution_count": 8,
   "metadata": {},
   "outputs": [
    {
     "name": "stdout",
     "output_type": "stream",
     "text": [
      "Enter number seperated with comma : 2,5,6,7\n",
      "list of numbers are : ['2', '5', '6', '7']\n"
     ]
    }
   ],
   "source": [
    "#1.Write a program which accepts a sequence of comma-separated numbers from console and generate a list.\n",
    "x = input(\"Enter number seperated with comma : \")\n",
    "num = x.split(',')\n",
    "print(\"list of numbers are :\", num)"
   ]
  },
  {
   "cell_type": "code",
   "execution_count": 104,
   "metadata": {},
   "outputs": [
    {
     "name": "stdout",
     "output_type": "stream",
     "text": [
      "* \n",
      "* * \n",
      "* * * \n",
      "* * * * \n",
      "* * * * * \n",
      "* * * * \n",
      "* * * \n",
      "* * \n",
      "* \n"
     ]
    }
   ],
   "source": [
    "#2. Create the below pattern using nested for loop in Python.\n",
    "n = 5\n",
    "\n",
    "for i in range(1,n+1):\n",
    "    for j in range(i):\n",
    "        print(\"*\",end=\" \")\n",
    "    print()\n",
    "for i in range(n-1,0,-1):\n",
    "    for j in range(i):\n",
    "        print(\"*\",end=\" \")\n",
    "    print()\n"
   ]
  },
  {
   "cell_type": "code",
   "execution_count": 35,
   "metadata": {},
   "outputs": [
    {
     "name": "stdout",
     "output_type": "stream",
     "text": [
      "Please enter the word: AcadGild\n",
      "The reverse of the word you enetered is : dliGdacA\n"
     ]
    }
   ],
   "source": [
    "#3.Write a Python program to reverse a word after accepting the input from the user.\n",
    "#Input word: AcadGild\n",
    "\n",
    "word = input(\"Please enter the word: \")\n",
    "rev = word[::-1]\n",
    "print(\"The reverse of the word you enetered is :\",rev)"
   ]
  },
  {
   "cell_type": "code",
   "execution_count": 56,
   "metadata": {},
   "outputs": [
    {
     "name": "stdout",
     "output_type": "stream",
     "text": [
      " WE, THE PEOPLE OF INDIA, \n",
      "\t having solemnly resolved to constitute India into a SOVEREIGN, ! \n",
      "\t\t SOCIALIST, SECULAR, DEMOCRATIC REPUBLIC \n",
      "\t\t  and to secure to all its citizens \n"
     ]
    }
   ],
   "source": [
    "#4. Write a Python Program to print the given string in the format specified in the sample\n",
    "#Sample Output:\n",
    "#WE, THE PEOPLE OF INDIA,\n",
    "#    having solemnly resolved to constitute India into a SOVEREIGN, !\n",
    "#       SOCIALIST, SECULAR, DEMOCRATIC REPUBLIC\n",
    "#        and to secure to all its citizens\n",
    "\n",
    "print(\" WE, THE PEOPLE OF INDIA, \\n\\t having solemnly resolved to constitute India into a SOVEREIGN, ! \\n\\t\\t SOCIALIST, SECULAR, DEMOCRATIC REPUBLIC \\n\\t\\t  and to secure to all its citizens \")"
   ]
  }
 ],
 "metadata": {
  "kernelspec": {
   "display_name": "Python 3",
   "language": "python",
   "name": "python3"
  },
  "language_info": {
   "codemirror_mode": {
    "name": "ipython",
    "version": 3
   },
   "file_extension": ".py",
   "mimetype": "text/x-python",
   "name": "python",
   "nbconvert_exporter": "python",
   "pygments_lexer": "ipython3",
   "version": "3.6.4"
  }
 },
 "nbformat": 4,
 "nbformat_minor": 2
}
